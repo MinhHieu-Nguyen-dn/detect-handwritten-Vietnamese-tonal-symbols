{
 "cells": [
  {
   "cell_type": "markdown",
   "source": [
    "IMPORT LIBRARIES"
   ],
   "metadata": {
    "collapsed": false,
    "pycharm": {
     "name": "#%% md\n"
    }
   }
  },
  {
   "cell_type": "code",
   "execution_count": 27,
   "metadata": {
    "collapsed": true
   },
   "outputs": [],
   "source": [
    "import os\n",
    "import glob\n",
    "import numpy as np\n",
    "from tensorflow.keras.preprocessing.image import img_to_array, load_img\n",
    "from tensorflow.keras import layers\n",
    "from tensorflow import keras\n",
    "import tensorflow as tf"
   ]
  },
  {
   "cell_type": "markdown",
   "source": [
    "CREATE THE DATASET OF 5 VIETNAMESE TONAL SYMBOLS"
   ],
   "metadata": {
    "collapsed": false,
    "pycharm": {
     "name": "#%% md\n"
    }
   }
  },
  {
   "cell_type": "code",
   "execution_count": null,
   "outputs": [],
   "source": [
    "image_dataset_dir = \"./datasets\""
   ],
   "metadata": {
    "collapsed": false,
    "pycharm": {
     "name": "#%%\n"
    }
   }
  },
  {
   "cell_type": "markdown",
   "source": [
    "The tone No.1 – dấu sắc (Acute accent)"
   ],
   "metadata": {
    "collapsed": false,
    "pycharm": {
     "name": "#%% md\n"
    }
   }
  },
  {
   "cell_type": "code",
   "execution_count": 16,
   "outputs": [
    {
     "data": {
      "text/plain": "['1.png',\n '10.png',\n '11.png',\n '12.png',\n '13.png',\n '14.png',\n '15.png',\n '16.png',\n '17.png',\n '18.png',\n '19.png',\n '2.png',\n '20.png',\n '3.png',\n '4.png',\n '5.png',\n '6.png',\n '7.png',\n '8.png',\n '9.png']"
     },
     "execution_count": 16,
     "metadata": {},
     "output_type": "execute_result"
    }
   ],
   "source": [
    "tone_image_dir = image_dataset_dir + '/' + 'dau_sac'\n",
    "os.listdir(tone_image_dir)"
   ],
   "metadata": {
    "collapsed": false,
    "pycharm": {
     "name": "#%%\n"
    }
   }
  },
  {
   "cell_type": "code",
   "execution_count": 18,
   "outputs": [
    {
     "data": {
      "text/plain": "<PIL.PngImagePlugin.PngImageFile image mode=RGB size=28x28>",
      "image/png": "[encoded data removed]"
     },
     "execution_count": 18,
     "metadata": {},
     "output_type": "execute_result"
    }
   ],
   "source": [
    "load_img(tone_image_dir + '/1.png')"
   ],
   "metadata": {
    "collapsed": false,
    "pycharm": {
     "name": "#%%\n"
    }
   }
  },
  {
   "cell_type": "markdown",
   "source": [
    "The tone No.2 – dấu huyền (Grave accent)"
   ],
   "metadata": {
    "collapsed": false,
    "pycharm": {
     "name": "#%% md\n"
    }
   }
  },
  {
   "cell_type": "code",
   "execution_count": 19,
   "outputs": [
    {
     "data": {
      "text/plain": "['1.png',\n '10.png',\n '11.png',\n '12.png',\n '13.png',\n '14.png',\n '15.png',\n '16.png',\n '17.png',\n '18.png',\n '19.png',\n '2.png',\n '20.png',\n '3.png',\n '4.png',\n '5.png',\n '6.png',\n '7.png',\n '8.png',\n '9.png']"
     },
     "execution_count": 19,
     "metadata": {},
     "output_type": "execute_result"
    }
   ],
   "source": [
    "tone_image_dir = image_dataset_dir + '/' + 'dau_huyen'\n",
    "os.listdir(tone_image_dir)"
   ],
   "metadata": {
    "collapsed": false,
    "pycharm": {
     "name": "#%%\n"
    }
   }
  },
  {
   "cell_type": "code",
   "execution_count": 20,
   "outputs": [
    {
     "data": {
      "text/plain": "<PIL.PngImagePlugin.PngImageFile image mode=RGB size=28x28>",
      "image/png": "[encoded data removed]"
     },
     "execution_count": 20,
     "metadata": {},
     "output_type": "execute_result"
    }
   ],
   "source": [
    "load_img(tone_image_dir + '/1.png')"
   ],
   "metadata": {
    "collapsed": false,
    "pycharm": {
     "name": "#%%\n"
    }
   }
  },
  {
   "cell_type": "markdown",
   "source": [
    "The tone No.3 – dấu ngã (Tilde)"
   ],
   "metadata": {
    "collapsed": false,
    "pycharm": {
     "name": "#%% md\n"
    }
   }
  },
  {
   "cell_type": "code",
   "execution_count": 21,
   "outputs": [
    {
     "data": {
      "text/plain": "['1.png',\n '10.png',\n '11.png',\n '12.png',\n '13.png',\n '14.png',\n '15.png',\n '16.png',\n '17.png',\n '18.png',\n '19.png',\n '2.png',\n '20.png',\n '3.png',\n '4.png',\n '5.png',\n '6.png',\n '7.png',\n '8.png',\n '9.png']"
     },
     "execution_count": 21,
     "metadata": {},
     "output_type": "execute_result"
    }
   ],
   "source": [
    "tone_image_dir = image_dataset_dir + '/' + 'dau_hoi'\n",
    "os.listdir(tone_image_dir)"
   ],
   "metadata": {
    "collapsed": false,
    "pycharm": {
     "name": "#%%\n"
    }
   }
  },
  {
   "cell_type": "code",
   "execution_count": 22,
   "outputs": [
    {
     "data": {
      "text/plain": "<PIL.PngImagePlugin.PngImageFile image mode=RGB size=28x28>",
      "image/png": "[encoded data removed]"
     },
     "execution_count": 22,
     "metadata": {},
     "output_type": "execute_result"
    }
   ],
   "source": [
    "load_img(tone_image_dir + '/1.png')"
   ],
   "metadata": {
    "collapsed": false,
    "pycharm": {
     "name": "#%%\n"
    }
   }
  },
  {
   "cell_type": "markdown",
   "source": [
    "The tone No.4 – dấu hỏi (Hook above)"
   ],
   "metadata": {
    "collapsed": false,
    "pycharm": {
     "name": "#%% md\n"
    }
   }
  },
  {
   "cell_type": "code",
   "execution_count": 23,
   "outputs": [
    {
     "data": {
      "text/plain": "['1.png',\n '10.png',\n '11.png',\n '12.png',\n '13.png',\n '14.png',\n '15.png',\n '16.png',\n '17.png',\n '18.png',\n '19.png',\n '2.png',\n '20.png',\n '3.png',\n '4.png',\n '5.png',\n '6.png',\n '7.png',\n '8.png',\n '9.png']"
     },
     "execution_count": 23,
     "metadata": {},
     "output_type": "execute_result"
    }
   ],
   "source": [
    "tone_image_dir = image_dataset_dir + '/' + 'dau_nga'\n",
    "os.listdir(tone_image_dir)"
   ],
   "metadata": {
    "collapsed": false,
    "pycharm": {
     "name": "#%%\n"
    }
   }
  },
  {
   "cell_type": "code",
   "execution_count": 24,
   "outputs": [
    {
     "data": {
      "text/plain": "<PIL.PngImagePlugin.PngImageFile image mode=RGB size=28x28>",
      "image/png": "[encoded data removed]"
     },
     "execution_count": 24,
     "metadata": {},
     "output_type": "execute_result"
    }
   ],
   "source": [
    "load_img(tone_image_dir + '/1.png')"
   ],
   "metadata": {
    "collapsed": false,
    "pycharm": {
     "name": "#%%\n"
    }
   }
  },
  {
   "cell_type": "markdown",
   "source": [
    "The tone No.5 – dấu nặng (Underdot)"
   ],
   "metadata": {
    "collapsed": false,
    "pycharm": {
     "name": "#%% md\n"
    }
   }
  },
  {
   "cell_type": "code",
   "execution_count": 25,
   "outputs": [
    {
     "data": {
      "text/plain": "['1.png',\n '10.png',\n '11.png',\n '12.png',\n '13.png',\n '14.png',\n '15.png',\n '16.png',\n '17.png',\n '18.png',\n '19.png',\n '2.png',\n '20.png',\n '3.png',\n '4.png',\n '5.png',\n '6.png',\n '7.png',\n '8.png',\n '9.png']"
     },
     "execution_count": 25,
     "metadata": {},
     "output_type": "execute_result"
    }
   ],
   "source": [
    "tone_image_dir = image_dataset_dir + '/' + 'dau_nang'\n",
    "os.listdir(tone_image_dir)"
   ],
   "metadata": {
    "collapsed": false,
    "pycharm": {
     "name": "#%%\n"
    }
   }
  },
  {
   "cell_type": "code",
   "execution_count": 26,
   "outputs": [
    {
     "data": {
      "text/plain": "<PIL.PngImagePlugin.PngImageFile image mode=RGB size=28x28>",
      "image/png": "[encoded data removed]"
     },
     "execution_count": 26,
     "metadata": {},
     "output_type": "execute_result"
    }
   ],
   "source": [
    "load_img(tone_image_dir + '/1.png')"
   ],
   "metadata": {
    "collapsed": false,
    "pycharm": {
     "name": "#%%\n"
    }
   }
  },
  {
   "cell_type": "markdown",
   "source": [
    "CONVERT IMAGES (BINARY) DATA OF EACH CATEGORY INTO NUMPY ARRAYS AND SAVE INTO .NPY FILES"
   ],
   "metadata": {
    "collapsed": false,
    "pycharm": {
     "name": "#%% md\n"
    }
   }
  },
  {
   "cell_type": "code",
   "execution_count": 15,
   "outputs": [
    {
     "name": "stdout",
     "output_type": "stream",
     "text": [
      "Dataset converted to npy and saved here at ./data_npy/ \n",
      "['dau_hoi.npy', 'dau_huyen.npy', 'dau_nang.npy', 'dau_nga.npy', 'dau_sac.npy']\n"
     ]
    }
   ],
   "source": [
    "new_dataset_folder = \"./data_npy/\"\n",
    "\n",
    "\n",
    "for label in os.listdir(image_dataset_dir):\n",
    "    images_dir= image_dataset_dir + \"/\" + label\n",
    "    if not os.path.isdir(images_dir):\n",
    "        continue\n",
    "\n",
    "    X = []\n",
    "    for image_file in os.listdir(images_dir):\n",
    "        img = load_img(images_dir + \"/\" + image_file, color_mode=\"grayscale\")\n",
    "        x = np.ravel(img_to_array(img))\n",
    "        X.append(x)\n",
    "\n",
    "    npy_file = new_dataset_folder + label + '.npy'\n",
    "    np.save(npy_file, X)\n",
    "\n",
    "print('Dataset converted to npy and saved here at %s '%new_dataset_folder)\n",
    "print(os.listdir(new_dataset_folder))"
   ],
   "metadata": {
    "collapsed": false,
    "pycharm": {
     "name": "#%%\n"
    }
   }
  }
 ],
 "metadata": {
  "kernelspec": {
   "display_name": "Python 3",
   "language": "python",
   "name": "python3"
  },
  "language_info": {
   "codemirror_mode": {
    "name": "ipython",
    "version": 2
   },
   "file_extension": ".py",
   "mimetype": "text/x-python",
   "name": "python",
   "nbconvert_exporter": "python",
   "pygments_lexer": "ipython2",
   "version": "2.7.6"
  }
 },
 "nbformat": 4,
 "nbformat_minor": 0
}